{
 "cells": [
  {
   "cell_type": "code",
   "execution_count": 1,
   "id": "ff5469df-9e4d-4618-b30d-d9805126689d",
   "metadata": {},
   "outputs": [
    {
     "data": {
      "text/plain": [
       "my_function (generic function with 1 method)"
      ]
     },
     "execution_count": 1,
     "metadata": {},
     "output_type": "execute_result"
    }
   ],
   "source": [
    "function my_function(x::Int64)\n",
    "\tprintln(x)\n",
    "end"
   ]
  },
  {
   "cell_type": "markdown",
   "id": "b1dff9b7-25d6-44d2-8c56-5b8a982c00c9",
   "metadata": {},
   "source": [
    "# hello"
   ]
  },
  {
   "cell_type": "code",
   "execution_count": null,
   "id": "2e01980b-dc45-476c-8bb5-df67f5c8b237",
   "metadata": {},
   "outputs": [],
   "source": []
  }
 ],
 "metadata": {
  "kernelspec": {
   "display_name": "Julia 1.9.2",
   "language": "julia",
   "name": "julia-1.9"
  },
  "language_info": {
   "file_extension": ".jl",
   "mimetype": "application/julia",
   "name": "julia",
   "version": "1.9.2"
  }
 },
 "nbformat": 4,
 "nbformat_minor": 5
}
