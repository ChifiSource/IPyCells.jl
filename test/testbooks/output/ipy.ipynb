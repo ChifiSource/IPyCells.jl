{
"cells": [{
 "cell_type": "code",
 "execution_count": 1,
 "id": "1526e48d-b762-44f7-b1a0-a04eea79f6b1",
 "metadata": {},
 "outputs": [
  {
   "data": {
    "text/plain": [
     ""
    ]
   },
   "execution_count": 1,
   "metadata": {},
   "output_type": "execute_result"
  }
 ],
 "source": [
  "function example(x::Any)\n    println(\"hi\")\nend"
 ]
},{
 "cell_type": "markdown",
 "execution_count": 1,
 "id": "4468c2f7-e883-4d02-a6b4-5d8492abf1c3",
 "metadata": {},
 "outputs": [
  {
   "data": {
    "text/plain": [
     ""
    ]
   },
   "execution_count": 1,
   "metadata": {},
   "output_type": "execute_result"
  }
 ],
 "source": [
  "- hi"
 ]
},{
 "cell_type": "code",
 "execution_count": 1,
 "id": "0c02f662-c315-4f7f-8179-3cf67c97feb3",
 "metadata": {},
 "outputs": [
  {
   "data": {
    "text/plain": [
     ""
    ]
   },
   "execution_count": 1,
   "metadata": {},
   "output_type": "execute_result"
  }
 ],
 "source": [
  "println(\"hi\")"
 ]
} ],
 "metadata": {
  "kernelspec": {
   "display_name": "Julia 1.9.2",
   "language": "julia",
   "name": "julia-1.9"
  },
  "language_info": {
   "file_extension": ".jl",
   "mimetype": "application/julia",
   "name": "julia",
   "version": "1.9.2"
  }
 },
 "nbformat": 4,
 "nbformat_minor": 5
}